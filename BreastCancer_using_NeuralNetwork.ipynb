{
  "nbformat": 4,
  "nbformat_minor": 0,
  "metadata": {
    "colab": {
      "name": "BreastCancer using NeuralNetwork.ipynb",
      "provenance": [],
      "authorship_tag": "ABX9TyNgAm0OYAvDEMsqpErHiCrV",
      "include_colab_link": true
    },
    "kernelspec": {
      "name": "python3",
      "display_name": "Python 3"
    },
    "language_info": {
      "name": "python"
    }
  },
  "cells": [
    {
      "cell_type": "markdown",
      "metadata": {
        "id": "view-in-github",
        "colab_type": "text"
      },
      "source": [
        "<a href=\"https://colab.research.google.com/github/5hv5hvnk/Breast-cancer-prediction/blob/main/BreastCancer_using_NeuralNetwork.ipynb\" target=\"_parent\"><img src=\"https://colab.research.google.com/assets/colab-badge.svg\" alt=\"Open In Colab\"/></a>"
      ]
    },
    {
      "cell_type": "code",
      "metadata": {
        "id": "fL9Gm8Ng3-RS"
      },
      "source": [
        "import numpy as np\n",
        "import pandas as pd\n",
        "import matplotlib.pyplot as plt"
      ],
      "execution_count": 1,
      "outputs": []
    },
    {
      "cell_type": "code",
      "metadata": {
        "id": "I7Nr5wKW44wk"
      },
      "source": [
        "df = pd.read_csv('data.csv')"
      ],
      "execution_count": 2,
      "outputs": []
    },
    {
      "cell_type": "code",
      "metadata": {
        "colab": {
          "base_uri": "https://localhost:8080/",
          "height": 237
        },
        "id": "iVJLeCHG479j",
        "outputId": "6d969b14-c9b4-4c07-ad8c-20c371b5e70a"
      },
      "source": [
        "df.head(5)"
      ],
      "execution_count": 3,
      "outputs": [
        {
          "output_type": "execute_result",
          "data": {
            "text/html": [
              "<div>\n",
              "<style scoped>\n",
              "    .dataframe tbody tr th:only-of-type {\n",
              "        vertical-align: middle;\n",
              "    }\n",
              "\n",
              "    .dataframe tbody tr th {\n",
              "        vertical-align: top;\n",
              "    }\n",
              "\n",
              "    .dataframe thead th {\n",
              "        text-align: right;\n",
              "    }\n",
              "</style>\n",
              "<table border=\"1\" class=\"dataframe\">\n",
              "  <thead>\n",
              "    <tr style=\"text-align: right;\">\n",
              "      <th></th>\n",
              "      <th>id</th>\n",
              "      <th>diagnosis</th>\n",
              "      <th>radius_mean</th>\n",
              "      <th>texture_mean</th>\n",
              "      <th>perimeter_mean</th>\n",
              "      <th>area_mean</th>\n",
              "      <th>smoothness_mean</th>\n",
              "      <th>compactness_mean</th>\n",
              "      <th>concavity_mean</th>\n",
              "      <th>concave points_mean</th>\n",
              "      <th>symmetry_mean</th>\n",
              "      <th>fractal_dimension_mean</th>\n",
              "      <th>radius_se</th>\n",
              "      <th>texture_se</th>\n",
              "      <th>perimeter_se</th>\n",
              "      <th>area_se</th>\n",
              "      <th>smoothness_se</th>\n",
              "      <th>compactness_se</th>\n",
              "      <th>concavity_se</th>\n",
              "      <th>concave points_se</th>\n",
              "      <th>symmetry_se</th>\n",
              "      <th>fractal_dimension_se</th>\n",
              "      <th>radius_worst</th>\n",
              "      <th>texture_worst</th>\n",
              "      <th>perimeter_worst</th>\n",
              "      <th>area_worst</th>\n",
              "      <th>smoothness_worst</th>\n",
              "      <th>compactness_worst</th>\n",
              "      <th>concavity_worst</th>\n",
              "      <th>concave points_worst</th>\n",
              "      <th>symmetry_worst</th>\n",
              "      <th>fractal_dimension_worst</th>\n",
              "      <th>Unnamed: 32</th>\n",
              "    </tr>\n",
              "  </thead>\n",
              "  <tbody>\n",
              "    <tr>\n",
              "      <th>0</th>\n",
              "      <td>842302</td>\n",
              "      <td>M</td>\n",
              "      <td>17.99</td>\n",
              "      <td>10.38</td>\n",
              "      <td>122.80</td>\n",
              "      <td>1001.0</td>\n",
              "      <td>0.11840</td>\n",
              "      <td>0.27760</td>\n",
              "      <td>0.3001</td>\n",
              "      <td>0.14710</td>\n",
              "      <td>0.2419</td>\n",
              "      <td>0.07871</td>\n",
              "      <td>1.0950</td>\n",
              "      <td>0.9053</td>\n",
              "      <td>8.589</td>\n",
              "      <td>153.40</td>\n",
              "      <td>0.006399</td>\n",
              "      <td>0.04904</td>\n",
              "      <td>0.05373</td>\n",
              "      <td>0.01587</td>\n",
              "      <td>0.03003</td>\n",
              "      <td>0.006193</td>\n",
              "      <td>25.38</td>\n",
              "      <td>17.33</td>\n",
              "      <td>184.60</td>\n",
              "      <td>2019.0</td>\n",
              "      <td>0.1622</td>\n",
              "      <td>0.6656</td>\n",
              "      <td>0.7119</td>\n",
              "      <td>0.2654</td>\n",
              "      <td>0.4601</td>\n",
              "      <td>0.11890</td>\n",
              "      <td>NaN</td>\n",
              "    </tr>\n",
              "    <tr>\n",
              "      <th>1</th>\n",
              "      <td>842517</td>\n",
              "      <td>M</td>\n",
              "      <td>20.57</td>\n",
              "      <td>17.77</td>\n",
              "      <td>132.90</td>\n",
              "      <td>1326.0</td>\n",
              "      <td>0.08474</td>\n",
              "      <td>0.07864</td>\n",
              "      <td>0.0869</td>\n",
              "      <td>0.07017</td>\n",
              "      <td>0.1812</td>\n",
              "      <td>0.05667</td>\n",
              "      <td>0.5435</td>\n",
              "      <td>0.7339</td>\n",
              "      <td>3.398</td>\n",
              "      <td>74.08</td>\n",
              "      <td>0.005225</td>\n",
              "      <td>0.01308</td>\n",
              "      <td>0.01860</td>\n",
              "      <td>0.01340</td>\n",
              "      <td>0.01389</td>\n",
              "      <td>0.003532</td>\n",
              "      <td>24.99</td>\n",
              "      <td>23.41</td>\n",
              "      <td>158.80</td>\n",
              "      <td>1956.0</td>\n",
              "      <td>0.1238</td>\n",
              "      <td>0.1866</td>\n",
              "      <td>0.2416</td>\n",
              "      <td>0.1860</td>\n",
              "      <td>0.2750</td>\n",
              "      <td>0.08902</td>\n",
              "      <td>NaN</td>\n",
              "    </tr>\n",
              "    <tr>\n",
              "      <th>2</th>\n",
              "      <td>84300903</td>\n",
              "      <td>M</td>\n",
              "      <td>19.69</td>\n",
              "      <td>21.25</td>\n",
              "      <td>130.00</td>\n",
              "      <td>1203.0</td>\n",
              "      <td>0.10960</td>\n",
              "      <td>0.15990</td>\n",
              "      <td>0.1974</td>\n",
              "      <td>0.12790</td>\n",
              "      <td>0.2069</td>\n",
              "      <td>0.05999</td>\n",
              "      <td>0.7456</td>\n",
              "      <td>0.7869</td>\n",
              "      <td>4.585</td>\n",
              "      <td>94.03</td>\n",
              "      <td>0.006150</td>\n",
              "      <td>0.04006</td>\n",
              "      <td>0.03832</td>\n",
              "      <td>0.02058</td>\n",
              "      <td>0.02250</td>\n",
              "      <td>0.004571</td>\n",
              "      <td>23.57</td>\n",
              "      <td>25.53</td>\n",
              "      <td>152.50</td>\n",
              "      <td>1709.0</td>\n",
              "      <td>0.1444</td>\n",
              "      <td>0.4245</td>\n",
              "      <td>0.4504</td>\n",
              "      <td>0.2430</td>\n",
              "      <td>0.3613</td>\n",
              "      <td>0.08758</td>\n",
              "      <td>NaN</td>\n",
              "    </tr>\n",
              "    <tr>\n",
              "      <th>3</th>\n",
              "      <td>84348301</td>\n",
              "      <td>M</td>\n",
              "      <td>11.42</td>\n",
              "      <td>20.38</td>\n",
              "      <td>77.58</td>\n",
              "      <td>386.1</td>\n",
              "      <td>0.14250</td>\n",
              "      <td>0.28390</td>\n",
              "      <td>0.2414</td>\n",
              "      <td>0.10520</td>\n",
              "      <td>0.2597</td>\n",
              "      <td>0.09744</td>\n",
              "      <td>0.4956</td>\n",
              "      <td>1.1560</td>\n",
              "      <td>3.445</td>\n",
              "      <td>27.23</td>\n",
              "      <td>0.009110</td>\n",
              "      <td>0.07458</td>\n",
              "      <td>0.05661</td>\n",
              "      <td>0.01867</td>\n",
              "      <td>0.05963</td>\n",
              "      <td>0.009208</td>\n",
              "      <td>14.91</td>\n",
              "      <td>26.50</td>\n",
              "      <td>98.87</td>\n",
              "      <td>567.7</td>\n",
              "      <td>0.2098</td>\n",
              "      <td>0.8663</td>\n",
              "      <td>0.6869</td>\n",
              "      <td>0.2575</td>\n",
              "      <td>0.6638</td>\n",
              "      <td>0.17300</td>\n",
              "      <td>NaN</td>\n",
              "    </tr>\n",
              "    <tr>\n",
              "      <th>4</th>\n",
              "      <td>84358402</td>\n",
              "      <td>M</td>\n",
              "      <td>20.29</td>\n",
              "      <td>14.34</td>\n",
              "      <td>135.10</td>\n",
              "      <td>1297.0</td>\n",
              "      <td>0.10030</td>\n",
              "      <td>0.13280</td>\n",
              "      <td>0.1980</td>\n",
              "      <td>0.10430</td>\n",
              "      <td>0.1809</td>\n",
              "      <td>0.05883</td>\n",
              "      <td>0.7572</td>\n",
              "      <td>0.7813</td>\n",
              "      <td>5.438</td>\n",
              "      <td>94.44</td>\n",
              "      <td>0.011490</td>\n",
              "      <td>0.02461</td>\n",
              "      <td>0.05688</td>\n",
              "      <td>0.01885</td>\n",
              "      <td>0.01756</td>\n",
              "      <td>0.005115</td>\n",
              "      <td>22.54</td>\n",
              "      <td>16.67</td>\n",
              "      <td>152.20</td>\n",
              "      <td>1575.0</td>\n",
              "      <td>0.1374</td>\n",
              "      <td>0.2050</td>\n",
              "      <td>0.4000</td>\n",
              "      <td>0.1625</td>\n",
              "      <td>0.2364</td>\n",
              "      <td>0.07678</td>\n",
              "      <td>NaN</td>\n",
              "    </tr>\n",
              "  </tbody>\n",
              "</table>\n",
              "</div>"
            ],
            "text/plain": [
              "         id diagnosis  ...  fractal_dimension_worst  Unnamed: 32\n",
              "0    842302         M  ...                  0.11890          NaN\n",
              "1    842517         M  ...                  0.08902          NaN\n",
              "2  84300903         M  ...                  0.08758          NaN\n",
              "3  84348301         M  ...                  0.17300          NaN\n",
              "4  84358402         M  ...                  0.07678          NaN\n",
              "\n",
              "[5 rows x 33 columns]"
            ]
          },
          "metadata": {
            "tags": []
          },
          "execution_count": 3
        }
      ]
    },
    {
      "cell_type": "code",
      "metadata": {
        "colab": {
          "base_uri": "https://localhost:8080/"
        },
        "id": "P2z5pLQc4_6z",
        "outputId": "f72366df-b8a4-4c81-8fea-ddf97a526cde"
      },
      "source": [
        "df.shape"
      ],
      "execution_count": 4,
      "outputs": [
        {
          "output_type": "execute_result",
          "data": {
            "text/plain": [
              "(569, 33)"
            ]
          },
          "metadata": {
            "tags": []
          },
          "execution_count": 4
        }
      ]
    },
    {
      "cell_type": "code",
      "metadata": {
        "id": "Gc7htt1q7imh"
      },
      "source": [
        "df = df.dropna(axis=1) #removing nan values"
      ],
      "execution_count": 5,
      "outputs": []
    },
    {
      "cell_type": "code",
      "metadata": {
        "colab": {
          "base_uri": "https://localhost:8080/"
        },
        "id": "WoTyDVOi7kv-",
        "outputId": "ab69ce56-58e6-444d-944c-2b38b5ccb370"
      },
      "source": [
        "df.shape"
      ],
      "execution_count": 6,
      "outputs": [
        {
          "output_type": "execute_result",
          "data": {
            "text/plain": [
              "(569, 32)"
            ]
          },
          "metadata": {
            "tags": []
          },
          "execution_count": 6
        }
      ]
    },
    {
      "cell_type": "code",
      "metadata": {
        "colab": {
          "base_uri": "https://localhost:8080/"
        },
        "id": "-2XsQzJC7l6e",
        "outputId": "0f861ac4-1074-46b8-a4b1-b4d8efd252b2"
      },
      "source": [
        "from sklearn.preprocessing import LabelEncoder\n",
        "labelencoder_Y = LabelEncoder()\n",
        "df.iloc[:,1]= labelencoder_Y.fit_transform(df.iloc[:,1].values)\n",
        "print(labelencoder_Y.fit_transform(df.iloc[:,1].values))"
      ],
      "execution_count": 7,
      "outputs": [
        {
          "output_type": "stream",
          "text": [
            "[1 1 1 1 1 1 1 1 1 1 1 1 1 1 1 1 1 1 1 0 0 0 1 1 1 1 1 1 1 1 1 1 1 1 1 1 1\n",
            " 0 1 1 1 1 1 1 1 1 0 1 0 0 0 0 0 1 1 0 1 1 0 0 0 0 1 0 1 1 0 0 0 0 1 0 1 1\n",
            " 0 1 0 1 1 0 0 0 1 1 0 1 1 1 0 0 0 1 0 0 1 1 0 0 0 1 1 0 0 0 0 1 0 0 1 0 0\n",
            " 0 0 0 0 0 0 1 1 1 0 1 1 0 0 0 1 1 0 1 0 1 1 0 1 1 0 0 1 0 0 1 0 0 0 0 1 0\n",
            " 0 0 0 0 0 0 0 0 1 0 0 0 0 1 1 0 1 0 0 1 1 0 0 1 1 0 0 0 0 1 0 0 1 1 1 0 1\n",
            " 0 1 0 0 0 1 0 0 1 1 0 1 1 1 1 0 1 1 1 0 1 0 1 0 0 1 0 1 1 1 1 0 0 1 1 0 0\n",
            " 0 1 0 0 0 0 0 1 1 0 0 1 0 0 1 1 0 1 0 0 0 0 1 0 0 0 0 0 1 0 1 1 1 1 1 1 1\n",
            " 1 1 1 1 1 1 1 0 0 0 0 0 0 1 0 1 0 0 1 0 0 1 0 1 1 0 0 0 0 0 0 0 0 0 0 0 0\n",
            " 0 1 0 0 1 0 1 0 0 0 0 0 0 0 0 0 0 0 0 0 0 1 0 0 0 1 0 1 0 0 0 0 1 1 1 0 0\n",
            " 0 0 1 0 1 0 1 0 0 0 1 0 0 0 0 0 0 0 1 1 1 0 0 0 0 0 0 0 0 0 0 0 1 1 0 1 1\n",
            " 1 0 1 1 0 0 0 0 0 1 0 0 0 0 0 1 0 0 0 1 0 0 1 1 0 0 0 0 0 0 1 0 0 0 0 0 0\n",
            " 0 1 0 0 0 0 0 1 0 0 1 0 0 0 0 0 0 0 0 0 0 0 0 1 0 1 1 0 1 0 0 0 0 0 1 0 0\n",
            " 1 0 1 0 0 1 0 1 0 0 0 0 0 0 0 0 1 1 0 0 0 0 0 0 1 0 0 0 0 0 0 0 0 0 0 1 0\n",
            " 0 0 0 0 0 0 1 0 1 0 0 1 0 0 0 0 0 1 1 0 1 0 1 0 0 0 0 0 1 0 0 1 0 1 0 1 1\n",
            " 0 0 0 1 0 0 0 0 0 0 0 0 0 0 0 1 0 1 1 0 0 0 0 0 0 0 0 0 0 0 0 0 0 0 0 0 0\n",
            " 0 0 0 0 0 0 0 1 1 1 1 1 1 0]\n"
          ],
          "name": "stdout"
        }
      ]
    },
    {
      "cell_type": "code",
      "metadata": {
        "colab": {
          "base_uri": "https://localhost:8080/",
          "height": 237
        },
        "id": "jZAh9Wv97pI5",
        "outputId": "e99d209c-8bbc-47dd-e1bf-eecc826bd5b7"
      },
      "source": [
        "df.head(5)"
      ],
      "execution_count": 8,
      "outputs": [
        {
          "output_type": "execute_result",
          "data": {
            "text/html": [
              "<div>\n",
              "<style scoped>\n",
              "    .dataframe tbody tr th:only-of-type {\n",
              "        vertical-align: middle;\n",
              "    }\n",
              "\n",
              "    .dataframe tbody tr th {\n",
              "        vertical-align: top;\n",
              "    }\n",
              "\n",
              "    .dataframe thead th {\n",
              "        text-align: right;\n",
              "    }\n",
              "</style>\n",
              "<table border=\"1\" class=\"dataframe\">\n",
              "  <thead>\n",
              "    <tr style=\"text-align: right;\">\n",
              "      <th></th>\n",
              "      <th>id</th>\n",
              "      <th>diagnosis</th>\n",
              "      <th>radius_mean</th>\n",
              "      <th>texture_mean</th>\n",
              "      <th>perimeter_mean</th>\n",
              "      <th>area_mean</th>\n",
              "      <th>smoothness_mean</th>\n",
              "      <th>compactness_mean</th>\n",
              "      <th>concavity_mean</th>\n",
              "      <th>concave points_mean</th>\n",
              "      <th>symmetry_mean</th>\n",
              "      <th>fractal_dimension_mean</th>\n",
              "      <th>radius_se</th>\n",
              "      <th>texture_se</th>\n",
              "      <th>perimeter_se</th>\n",
              "      <th>area_se</th>\n",
              "      <th>smoothness_se</th>\n",
              "      <th>compactness_se</th>\n",
              "      <th>concavity_se</th>\n",
              "      <th>concave points_se</th>\n",
              "      <th>symmetry_se</th>\n",
              "      <th>fractal_dimension_se</th>\n",
              "      <th>radius_worst</th>\n",
              "      <th>texture_worst</th>\n",
              "      <th>perimeter_worst</th>\n",
              "      <th>area_worst</th>\n",
              "      <th>smoothness_worst</th>\n",
              "      <th>compactness_worst</th>\n",
              "      <th>concavity_worst</th>\n",
              "      <th>concave points_worst</th>\n",
              "      <th>symmetry_worst</th>\n",
              "      <th>fractal_dimension_worst</th>\n",
              "    </tr>\n",
              "  </thead>\n",
              "  <tbody>\n",
              "    <tr>\n",
              "      <th>0</th>\n",
              "      <td>842302</td>\n",
              "      <td>1</td>\n",
              "      <td>17.99</td>\n",
              "      <td>10.38</td>\n",
              "      <td>122.80</td>\n",
              "      <td>1001.0</td>\n",
              "      <td>0.11840</td>\n",
              "      <td>0.27760</td>\n",
              "      <td>0.3001</td>\n",
              "      <td>0.14710</td>\n",
              "      <td>0.2419</td>\n",
              "      <td>0.07871</td>\n",
              "      <td>1.0950</td>\n",
              "      <td>0.9053</td>\n",
              "      <td>8.589</td>\n",
              "      <td>153.40</td>\n",
              "      <td>0.006399</td>\n",
              "      <td>0.04904</td>\n",
              "      <td>0.05373</td>\n",
              "      <td>0.01587</td>\n",
              "      <td>0.03003</td>\n",
              "      <td>0.006193</td>\n",
              "      <td>25.38</td>\n",
              "      <td>17.33</td>\n",
              "      <td>184.60</td>\n",
              "      <td>2019.0</td>\n",
              "      <td>0.1622</td>\n",
              "      <td>0.6656</td>\n",
              "      <td>0.7119</td>\n",
              "      <td>0.2654</td>\n",
              "      <td>0.4601</td>\n",
              "      <td>0.11890</td>\n",
              "    </tr>\n",
              "    <tr>\n",
              "      <th>1</th>\n",
              "      <td>842517</td>\n",
              "      <td>1</td>\n",
              "      <td>20.57</td>\n",
              "      <td>17.77</td>\n",
              "      <td>132.90</td>\n",
              "      <td>1326.0</td>\n",
              "      <td>0.08474</td>\n",
              "      <td>0.07864</td>\n",
              "      <td>0.0869</td>\n",
              "      <td>0.07017</td>\n",
              "      <td>0.1812</td>\n",
              "      <td>0.05667</td>\n",
              "      <td>0.5435</td>\n",
              "      <td>0.7339</td>\n",
              "      <td>3.398</td>\n",
              "      <td>74.08</td>\n",
              "      <td>0.005225</td>\n",
              "      <td>0.01308</td>\n",
              "      <td>0.01860</td>\n",
              "      <td>0.01340</td>\n",
              "      <td>0.01389</td>\n",
              "      <td>0.003532</td>\n",
              "      <td>24.99</td>\n",
              "      <td>23.41</td>\n",
              "      <td>158.80</td>\n",
              "      <td>1956.0</td>\n",
              "      <td>0.1238</td>\n",
              "      <td>0.1866</td>\n",
              "      <td>0.2416</td>\n",
              "      <td>0.1860</td>\n",
              "      <td>0.2750</td>\n",
              "      <td>0.08902</td>\n",
              "    </tr>\n",
              "    <tr>\n",
              "      <th>2</th>\n",
              "      <td>84300903</td>\n",
              "      <td>1</td>\n",
              "      <td>19.69</td>\n",
              "      <td>21.25</td>\n",
              "      <td>130.00</td>\n",
              "      <td>1203.0</td>\n",
              "      <td>0.10960</td>\n",
              "      <td>0.15990</td>\n",
              "      <td>0.1974</td>\n",
              "      <td>0.12790</td>\n",
              "      <td>0.2069</td>\n",
              "      <td>0.05999</td>\n",
              "      <td>0.7456</td>\n",
              "      <td>0.7869</td>\n",
              "      <td>4.585</td>\n",
              "      <td>94.03</td>\n",
              "      <td>0.006150</td>\n",
              "      <td>0.04006</td>\n",
              "      <td>0.03832</td>\n",
              "      <td>0.02058</td>\n",
              "      <td>0.02250</td>\n",
              "      <td>0.004571</td>\n",
              "      <td>23.57</td>\n",
              "      <td>25.53</td>\n",
              "      <td>152.50</td>\n",
              "      <td>1709.0</td>\n",
              "      <td>0.1444</td>\n",
              "      <td>0.4245</td>\n",
              "      <td>0.4504</td>\n",
              "      <td>0.2430</td>\n",
              "      <td>0.3613</td>\n",
              "      <td>0.08758</td>\n",
              "    </tr>\n",
              "    <tr>\n",
              "      <th>3</th>\n",
              "      <td>84348301</td>\n",
              "      <td>1</td>\n",
              "      <td>11.42</td>\n",
              "      <td>20.38</td>\n",
              "      <td>77.58</td>\n",
              "      <td>386.1</td>\n",
              "      <td>0.14250</td>\n",
              "      <td>0.28390</td>\n",
              "      <td>0.2414</td>\n",
              "      <td>0.10520</td>\n",
              "      <td>0.2597</td>\n",
              "      <td>0.09744</td>\n",
              "      <td>0.4956</td>\n",
              "      <td>1.1560</td>\n",
              "      <td>3.445</td>\n",
              "      <td>27.23</td>\n",
              "      <td>0.009110</td>\n",
              "      <td>0.07458</td>\n",
              "      <td>0.05661</td>\n",
              "      <td>0.01867</td>\n",
              "      <td>0.05963</td>\n",
              "      <td>0.009208</td>\n",
              "      <td>14.91</td>\n",
              "      <td>26.50</td>\n",
              "      <td>98.87</td>\n",
              "      <td>567.7</td>\n",
              "      <td>0.2098</td>\n",
              "      <td>0.8663</td>\n",
              "      <td>0.6869</td>\n",
              "      <td>0.2575</td>\n",
              "      <td>0.6638</td>\n",
              "      <td>0.17300</td>\n",
              "    </tr>\n",
              "    <tr>\n",
              "      <th>4</th>\n",
              "      <td>84358402</td>\n",
              "      <td>1</td>\n",
              "      <td>20.29</td>\n",
              "      <td>14.34</td>\n",
              "      <td>135.10</td>\n",
              "      <td>1297.0</td>\n",
              "      <td>0.10030</td>\n",
              "      <td>0.13280</td>\n",
              "      <td>0.1980</td>\n",
              "      <td>0.10430</td>\n",
              "      <td>0.1809</td>\n",
              "      <td>0.05883</td>\n",
              "      <td>0.7572</td>\n",
              "      <td>0.7813</td>\n",
              "      <td>5.438</td>\n",
              "      <td>94.44</td>\n",
              "      <td>0.011490</td>\n",
              "      <td>0.02461</td>\n",
              "      <td>0.05688</td>\n",
              "      <td>0.01885</td>\n",
              "      <td>0.01756</td>\n",
              "      <td>0.005115</td>\n",
              "      <td>22.54</td>\n",
              "      <td>16.67</td>\n",
              "      <td>152.20</td>\n",
              "      <td>1575.0</td>\n",
              "      <td>0.1374</td>\n",
              "      <td>0.2050</td>\n",
              "      <td>0.4000</td>\n",
              "      <td>0.1625</td>\n",
              "      <td>0.2364</td>\n",
              "      <td>0.07678</td>\n",
              "    </tr>\n",
              "  </tbody>\n",
              "</table>\n",
              "</div>"
            ],
            "text/plain": [
              "         id  diagnosis  ...  symmetry_worst  fractal_dimension_worst\n",
              "0    842302          1  ...          0.4601                  0.11890\n",
              "1    842517          1  ...          0.2750                  0.08902\n",
              "2  84300903          1  ...          0.3613                  0.08758\n",
              "3  84348301          1  ...          0.6638                  0.17300\n",
              "4  84358402          1  ...          0.2364                  0.07678\n",
              "\n",
              "[5 rows x 32 columns]"
            ]
          },
          "metadata": {
            "tags": []
          },
          "execution_count": 8
        }
      ]
    },
    {
      "cell_type": "code",
      "metadata": {
        "id": "Tx13b7tw7rgc"
      },
      "source": [
        "from keras.models import Sequential\n",
        "from keras.layers import Dense\n"
      ],
      "execution_count": 9,
      "outputs": []
    },
    {
      "cell_type": "code",
      "metadata": {
        "id": "kfa6xjNU7_uC"
      },
      "source": [
        "classifier = Sequential()"
      ],
      "execution_count": 10,
      "outputs": []
    },
    {
      "cell_type": "code",
      "metadata": {
        "id": "WiXeXvAu8CL-"
      },
      "source": [
        "classifier.add(Dense(units=16, activation='relu',input_dim = 31))\n",
        "classifier.add(Dense(units=8, activation='relu'))\n",
        "classifier.add(Dense(units=6, activation='relu'))\n",
        "classifier.add(Dense(units=1, activation='sigmoid'))"
      ],
      "execution_count": 11,
      "outputs": []
    },
    {
      "cell_type": "code",
      "metadata": {
        "id": "fFkj10tC9L12"
      },
      "source": [
        "classifier.compile(optimizer = 'rmsprop',loss='binary_crossentropy')"
      ],
      "execution_count": 12,
      "outputs": []
    },
    {
      "cell_type": "code",
      "metadata": {
        "id": "_3FURuNPAYBp"
      },
      "source": [
        "y = df['diagnosis']"
      ],
      "execution_count": 13,
      "outputs": []
    },
    {
      "cell_type": "code",
      "metadata": {
        "colab": {
          "base_uri": "https://localhost:8080/"
        },
        "id": "vT12QH2jCx5J",
        "outputId": "ac547806-499e-401c-920f-8281c86c3cf8"
      },
      "source": [
        "type(y)"
      ],
      "execution_count": 14,
      "outputs": [
        {
          "output_type": "execute_result",
          "data": {
            "text/plain": [
              "pandas.core.series.Series"
            ]
          },
          "metadata": {
            "tags": []
          },
          "execution_count": 14
        }
      ]
    },
    {
      "cell_type": "code",
      "metadata": {
        "id": "n9vVs6GSDFeN"
      },
      "source": [
        "x = df.drop(['diagnosis'],axis=1)"
      ],
      "execution_count": 15,
      "outputs": []
    },
    {
      "cell_type": "code",
      "metadata": {
        "id": "CTf5HPHfDyPL"
      },
      "source": [
        ""
      ],
      "execution_count": 15,
      "outputs": []
    },
    {
      "cell_type": "code",
      "metadata": {
        "id": "phcgPRBz_GzH"
      },
      "source": [
        "from sklearn.model_selection import train_test_split\n",
        "x_train, x_test, y_train, y_test = train_test_split(x, y, test_size=0.33, random_state=314)"
      ],
      "execution_count": 16,
      "outputs": []
    },
    {
      "cell_type": "code",
      "metadata": {
        "id": "uHzVUs1hFhzS"
      },
      "source": [
        "from sklearn.preprocessing import StandardScaler\n",
        "scaler = StandardScaler()\n",
        "x_train = scaler.fit_transform(x_train)\n",
        "x_test = scaler.fit_transform(x_test)"
      ],
      "execution_count": 17,
      "outputs": []
    },
    {
      "cell_type": "code",
      "metadata": {
        "id": "GhGasiwlK2VT"
      },
      "source": [
        ""
      ],
      "execution_count": 68,
      "outputs": []
    },
    {
      "cell_type": "code",
      "metadata": {
        "colab": {
          "base_uri": "https://localhost:8080/"
        },
        "id": "aVTg-Ks4K1gK",
        "outputId": "adcb2d54-620a-4cfc-9160-37a8398098ce"
      },
      "source": [
        "x_train.shape"
      ],
      "execution_count": 18,
      "outputs": [
        {
          "output_type": "execute_result",
          "data": {
            "text/plain": [
              "(381, 31)"
            ]
          },
          "metadata": {
            "tags": []
          },
          "execution_count": 18
        }
      ]
    },
    {
      "cell_type": "code",
      "metadata": {
        "id": "YHGBkGxRIz6b"
      },
      "source": [
        "x_train = x_train.reshape(-1,31)"
      ],
      "execution_count": 19,
      "outputs": []
    },
    {
      "cell_type": "code",
      "metadata": {
        "colab": {
          "base_uri": "https://localhost:8080/"
        },
        "id": "kX7bCdbCFje_",
        "outputId": "744fc402-d3ae-4101-a987-183c44963baa"
      },
      "source": [
        "classifier.fit(x_train,y_train,batch_size = 1,epochs=100)"
      ],
      "execution_count": 20,
      "outputs": [
        {
          "output_type": "stream",
          "text": [
            "Epoch 1/100\n",
            "381/381 [==============================] - 14s 1ms/step - loss: 0.5353\n",
            "Epoch 2/100\n",
            "381/381 [==============================] - 0s 1ms/step - loss: 0.1843\n",
            "Epoch 3/100\n",
            "381/381 [==============================] - 0s 1ms/step - loss: 0.0721\n",
            "Epoch 4/100\n",
            "381/381 [==============================] - 0s 1ms/step - loss: 0.0583\n",
            "Epoch 5/100\n",
            "381/381 [==============================] - 0s 1ms/step - loss: 0.0526\n",
            "Epoch 6/100\n",
            "381/381 [==============================] - 0s 1ms/step - loss: 0.0754\n",
            "Epoch 7/100\n",
            "381/381 [==============================] - 0s 1ms/step - loss: 0.0275\n",
            "Epoch 8/100\n",
            "381/381 [==============================] - 0s 1ms/step - loss: 0.0863\n",
            "Epoch 9/100\n",
            "381/381 [==============================] - 0s 1ms/step - loss: 0.0678\n",
            "Epoch 10/100\n",
            "381/381 [==============================] - 0s 1ms/step - loss: 0.0824\n",
            "Epoch 11/100\n",
            "381/381 [==============================] - 0s 1ms/step - loss: 0.0467\n",
            "Epoch 12/100\n",
            "381/381 [==============================] - 0s 1ms/step - loss: 0.0445\n",
            "Epoch 13/100\n",
            "381/381 [==============================] - 0s 1ms/step - loss: 0.0325\n",
            "Epoch 14/100\n",
            "381/381 [==============================] - 0s 1ms/step - loss: 0.0276\n",
            "Epoch 15/100\n",
            "381/381 [==============================] - 0s 1ms/step - loss: 0.0565\n",
            "Epoch 16/100\n",
            "381/381 [==============================] - 0s 1ms/step - loss: 0.0505\n",
            "Epoch 17/100\n",
            "381/381 [==============================] - 0s 1ms/step - loss: 0.0326\n",
            "Epoch 18/100\n",
            "381/381 [==============================] - 0s 1ms/step - loss: 0.0366\n",
            "Epoch 19/100\n",
            "381/381 [==============================] - 0s 1ms/step - loss: 0.0786\n",
            "Epoch 20/100\n",
            "381/381 [==============================] - 0s 1ms/step - loss: 0.0337\n",
            "Epoch 21/100\n",
            "381/381 [==============================] - 0s 1ms/step - loss: 0.0554\n",
            "Epoch 22/100\n",
            "381/381 [==============================] - 0s 1ms/step - loss: 0.0175\n",
            "Epoch 23/100\n",
            "381/381 [==============================] - 0s 1ms/step - loss: 0.0239\n",
            "Epoch 24/100\n",
            "381/381 [==============================] - 0s 1ms/step - loss: 0.0342\n",
            "Epoch 25/100\n",
            "381/381 [==============================] - 0s 1ms/step - loss: 0.0215\n",
            "Epoch 26/100\n",
            "381/381 [==============================] - 0s 1ms/step - loss: 0.0479\n",
            "Epoch 27/100\n",
            "381/381 [==============================] - 0s 1ms/step - loss: 0.0202\n",
            "Epoch 28/100\n",
            "381/381 [==============================] - 0s 1ms/step - loss: 0.0468\n",
            "Epoch 29/100\n",
            "381/381 [==============================] - 0s 1ms/step - loss: 0.0422\n",
            "Epoch 30/100\n",
            "381/381 [==============================] - 0s 1ms/step - loss: 0.0374\n",
            "Epoch 31/100\n",
            "381/381 [==============================] - 0s 1ms/step - loss: 0.0986\n",
            "Epoch 32/100\n",
            "381/381 [==============================] - 0s 1ms/step - loss: 0.0724\n",
            "Epoch 33/100\n",
            "381/381 [==============================] - 0s 1ms/step - loss: 0.0104\n",
            "Epoch 34/100\n",
            "381/381 [==============================] - 0s 1ms/step - loss: 0.0331\n",
            "Epoch 35/100\n",
            "381/381 [==============================] - 0s 1ms/step - loss: 0.0113\n",
            "Epoch 36/100\n",
            "381/381 [==============================] - 0s 1ms/step - loss: 0.0054\n",
            "Epoch 37/100\n",
            "381/381 [==============================] - 0s 1ms/step - loss: 0.0233\n",
            "Epoch 38/100\n",
            "381/381 [==============================] - 0s 1ms/step - loss: 0.0032\n",
            "Epoch 39/100\n",
            "381/381 [==============================] - 0s 1ms/step - loss: 0.0267\n",
            "Epoch 40/100\n",
            "381/381 [==============================] - 0s 1ms/step - loss: 0.0115\n",
            "Epoch 41/100\n",
            "381/381 [==============================] - 0s 1ms/step - loss: 0.0076\n",
            "Epoch 42/100\n",
            "381/381 [==============================] - 0s 1ms/step - loss: 0.0105\n",
            "Epoch 43/100\n",
            "381/381 [==============================] - 0s 1ms/step - loss: 0.0062\n",
            "Epoch 44/100\n",
            "381/381 [==============================] - 0s 1ms/step - loss: 0.0199\n",
            "Epoch 45/100\n",
            "381/381 [==============================] - 0s 1ms/step - loss: 0.0458\n",
            "Epoch 46/100\n",
            "381/381 [==============================] - 0s 1ms/step - loss: 0.0084\n",
            "Epoch 47/100\n",
            "381/381 [==============================] - 0s 1ms/step - loss: 0.0546\n",
            "Epoch 48/100\n",
            "381/381 [==============================] - 0s 1ms/step - loss: 0.0252\n",
            "Epoch 49/100\n",
            "381/381 [==============================] - 0s 1ms/step - loss: 0.0056\n",
            "Epoch 50/100\n",
            "381/381 [==============================] - 0s 1ms/step - loss: 0.0203\n",
            "Epoch 51/100\n",
            "381/381 [==============================] - 0s 1ms/step - loss: 0.0156\n",
            "Epoch 52/100\n",
            "381/381 [==============================] - 0s 1ms/step - loss: 0.1030\n",
            "Epoch 53/100\n",
            "381/381 [==============================] - 0s 1ms/step - loss: 0.0089\n",
            "Epoch 54/100\n",
            "381/381 [==============================] - 0s 1ms/step - loss: 0.0010\n",
            "Epoch 55/100\n",
            "381/381 [==============================] - 0s 1ms/step - loss: 0.0053\n",
            "Epoch 56/100\n",
            "381/381 [==============================] - 0s 1ms/step - loss: 0.0259\n",
            "Epoch 57/100\n",
            "381/381 [==============================] - 0s 1ms/step - loss: 0.0074\n",
            "Epoch 58/100\n",
            "381/381 [==============================] - 0s 1ms/step - loss: 0.0266\n",
            "Epoch 59/100\n",
            "381/381 [==============================] - 0s 1ms/step - loss: 0.0090\n",
            "Epoch 60/100\n",
            "381/381 [==============================] - 1s 1ms/step - loss: 0.0250\n",
            "Epoch 61/100\n",
            "381/381 [==============================] - 0s 1ms/step - loss: 0.0220\n",
            "Epoch 62/100\n",
            "381/381 [==============================] - 0s 1ms/step - loss: 0.0137\n",
            "Epoch 63/100\n",
            "381/381 [==============================] - 0s 1ms/step - loss: 0.0212\n",
            "Epoch 64/100\n",
            "381/381 [==============================] - 0s 1ms/step - loss: 0.0209\n",
            "Epoch 65/100\n",
            "381/381 [==============================] - 0s 1ms/step - loss: 0.0264\n",
            "Epoch 66/100\n",
            "381/381 [==============================] - 0s 1ms/step - loss: 0.0621\n",
            "Epoch 67/100\n",
            "381/381 [==============================] - 0s 1ms/step - loss: 0.0256\n",
            "Epoch 68/100\n",
            "381/381 [==============================] - 0s 1ms/step - loss: 0.0166\n",
            "Epoch 69/100\n",
            "381/381 [==============================] - 0s 1ms/step - loss: 0.0024\n",
            "Epoch 70/100\n",
            "381/381 [==============================] - 0s 1ms/step - loss: 0.0571\n",
            "Epoch 71/100\n",
            "381/381 [==============================] - 0s 1ms/step - loss: 0.0459\n",
            "Epoch 72/100\n",
            "381/381 [==============================] - 0s 1ms/step - loss: 0.0857\n",
            "Epoch 73/100\n",
            "381/381 [==============================] - 0s 1ms/step - loss: 0.0345\n",
            "Epoch 74/100\n",
            "381/381 [==============================] - 0s 1ms/step - loss: 0.0385\n",
            "Epoch 75/100\n",
            "381/381 [==============================] - 0s 1ms/step - loss: 0.0160\n",
            "Epoch 76/100\n",
            "381/381 [==============================] - 0s 1ms/step - loss: 0.0209\n",
            "Epoch 77/100\n",
            "381/381 [==============================] - 0s 1ms/step - loss: 0.0712\n",
            "Epoch 78/100\n",
            "381/381 [==============================] - 0s 1ms/step - loss: 0.0120\n",
            "Epoch 79/100\n",
            "381/381 [==============================] - 0s 1ms/step - loss: 0.0598\n",
            "Epoch 80/100\n",
            "381/381 [==============================] - 0s 1ms/step - loss: 0.0330\n",
            "Epoch 81/100\n",
            "381/381 [==============================] - 0s 1ms/step - loss: 0.0037\n",
            "Epoch 82/100\n",
            "381/381 [==============================] - 0s 1ms/step - loss: 0.0038\n",
            "Epoch 83/100\n",
            "381/381 [==============================] - 0s 1ms/step - loss: 0.0087\n",
            "Epoch 84/100\n",
            "381/381 [==============================] - 0s 1ms/step - loss: 0.0545\n",
            "Epoch 85/100\n",
            "381/381 [==============================] - 0s 1ms/step - loss: 7.1282e-04\n",
            "Epoch 86/100\n",
            "381/381 [==============================] - 0s 1ms/step - loss: 0.0025\n",
            "Epoch 87/100\n",
            "381/381 [==============================] - 0s 1ms/step - loss: 0.0075\n",
            "Epoch 88/100\n",
            "381/381 [==============================] - 0s 1ms/step - loss: 0.0221\n",
            "Epoch 89/100\n",
            "381/381 [==============================] - 0s 1ms/step - loss: 0.0256\n",
            "Epoch 90/100\n",
            "381/381 [==============================] - 0s 1ms/step - loss: 0.0444\n",
            "Epoch 91/100\n",
            "381/381 [==============================] - 0s 1ms/step - loss: 0.0144\n",
            "Epoch 92/100\n",
            "381/381 [==============================] - 0s 1ms/step - loss: 0.0237\n",
            "Epoch 93/100\n",
            "381/381 [==============================] - 0s 1ms/step - loss: 0.0075\n",
            "Epoch 94/100\n",
            "381/381 [==============================] - 0s 1ms/step - loss: 0.0428\n",
            "Epoch 95/100\n",
            "381/381 [==============================] - 0s 1ms/step - loss: 0.0263\n",
            "Epoch 96/100\n",
            "381/381 [==============================] - 0s 1ms/step - loss: 0.0081\n",
            "Epoch 97/100\n",
            "381/381 [==============================] - 0s 1ms/step - loss: 0.0066\n",
            "Epoch 98/100\n",
            "381/381 [==============================] - 0s 1ms/step - loss: 0.0012\n",
            "Epoch 99/100\n",
            "381/381 [==============================] - 0s 1ms/step - loss: 0.0341\n",
            "Epoch 100/100\n",
            "381/381 [==============================] - 0s 1ms/step - loss: 0.0346\n"
          ],
          "name": "stdout"
        },
        {
          "output_type": "execute_result",
          "data": {
            "text/plain": [
              "<keras.callbacks.History at 0x7fd5fca3ded0>"
            ]
          },
          "metadata": {
            "tags": []
          },
          "execution_count": 20
        }
      ]
    },
    {
      "cell_type": "code",
      "metadata": {
        "id": "35TAAebUFzPJ"
      },
      "source": [
        "y_pred = classifier.predict(x_test)\n",
        "y_pred = [1 if y>=0.5 else 0 for y in y_pred]"
      ],
      "execution_count": 22,
      "outputs": []
    },
    {
      "cell_type": "code",
      "metadata": {
        "colab": {
          "base_uri": "https://localhost:8080/"
        },
        "id": "LJDg2vxENd7s",
        "outputId": "80890bb5-fc5e-4ee8-b750-abc75c3cd878"
      },
      "source": [
        "y_test.shape"
      ],
      "execution_count": 26,
      "outputs": [
        {
          "output_type": "execute_result",
          "data": {
            "text/plain": [
              "(188,)"
            ]
          },
          "metadata": {
            "tags": []
          },
          "execution_count": 26
        }
      ]
    },
    {
      "cell_type": "code",
      "metadata": {
        "id": "jmX3-lEzOjnf"
      },
      "source": [
        "new = y_test.values.reshape(1,188)"
      ],
      "execution_count": 77,
      "outputs": []
    },
    {
      "cell_type": "code",
      "metadata": {
        "colab": {
          "base_uri": "https://localhost:8080/"
        },
        "id": "lBjo2_MEN15G",
        "outputId": "7ba822ed-8b44-4126-8f3c-e9ac56afc3fa"
      },
      "source": [
        "total = 0\n",
        "correct = 0\n",
        "wrong = 0\n",
        "for i in y_pred:\n",
        "  total=total+1\n",
        "  if (new[0,i] == y_pred[i]):\n",
        "    correct=correct+1\n",
        "  else:\n",
        "    wrong=wrong+1\n",
        "print(\"total :\"+str(total))\n",
        "print(\"correct :\"+str(correct))\n",
        "print(\"wrong :\"+str(wrong))"
      ],
      "execution_count": 79,
      "outputs": [
        {
          "output_type": "stream",
          "text": [
            "total :188\n",
            "correct :188\n",
            "wrong :0\n"
          ],
          "name": "stdout"
        }
      ]
    },
    {
      "cell_type": "code",
      "metadata": {
        "id": "kSf8lYOZSAfJ"
      },
      "source": [
        ""
      ],
      "execution_count": null,
      "outputs": []
    }
  ]
}